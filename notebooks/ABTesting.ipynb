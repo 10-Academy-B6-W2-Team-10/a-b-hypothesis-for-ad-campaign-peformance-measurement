{
 "cells": [
  {
   "cell_type": "markdown",
   "id": "4e4f86ab",
   "metadata": {},
   "source": [
    "### Hypothesis Testing\n",
    "\n",
    "- classical p-value\n",
    "- sequential A/B testing\n",
    "\n",
    "E - conversion rate for exposed group\n",
    "\n",
    "C - conversion rate for control group - baseline conversion"
   ]
  },
  {
   "cell_type": "code",
   "execution_count": 228,
   "id": "eae5bd82",
   "metadata": {},
   "outputs": [],
   "source": [
    "import imp\n",
    "import sys\n",
    "import os\n",
    "import pandas as pd\n",
    "import numpy as np\n",
    "import math\n",
    "from math import factorial\n",
    "import logging\n",
    "\n",
    "import warnings\n",
    "warnings.filterwarnings(\"ignore\")\n",
    "\n",
    "sys.path.append(os.path.abspath(os.path.join(\"../scripts\")))\n",
    "from DistributionPlots import DistributionPlots\n",
    "DP = DistributionPlots()\n",
    "\n",
    "from ABTestingFunctions import ABTesting\n",
    "ABT = ABTesting()\n",
    "\n",
    "from sequential_testing_helper import Sequential_AB_Helper\n",
    "seq = Sequential_AB_Helper()\n",
    "\n",
    "import data_loader\n",
    "import ploting_utils\n",
    "import hypothesis_test\n"
   ]
  },
  {
   "cell_type": "code",
   "execution_count": 229,
   "id": "fcc573ce",
   "metadata": {},
   "outputs": [],
   "source": [
    "logging.basicConfig(filename='./logfile.log', filemode='a',\n",
    "                    encoding='utf-8', level=logging.DEBUG)\n"
   ]
  },
  {
   "cell_type": "code",
   "execution_count": 230,
   "id": "9ce2ded4",
   "metadata": {},
   "outputs": [
    {
     "data": {
      "text/html": [
       "<div>\n",
       "<style scoped>\n",
       "    .dataframe tbody tr th:only-of-type {\n",
       "        vertical-align: middle;\n",
       "    }\n",
       "\n",
       "    .dataframe tbody tr th {\n",
       "        vertical-align: top;\n",
       "    }\n",
       "\n",
       "    .dataframe thead th {\n",
       "        text-align: right;\n",
       "    }\n",
       "</style>\n",
       "<table border=\"1\" class=\"dataframe\">\n",
       "  <thead>\n",
       "    <tr style=\"text-align: right;\">\n",
       "      <th></th>\n",
       "      <th>auction_id</th>\n",
       "      <th>experiment</th>\n",
       "      <th>date</th>\n",
       "      <th>hour</th>\n",
       "      <th>device_make</th>\n",
       "      <th>platform_os</th>\n",
       "      <th>browser</th>\n",
       "      <th>yes</th>\n",
       "      <th>no</th>\n",
       "    </tr>\n",
       "  </thead>\n",
       "  <tbody>\n",
       "    <tr>\n",
       "      <th>0</th>\n",
       "      <td>0008ef63-77a7-448b-bd1e-075f42c55e39</td>\n",
       "      <td>exposed</td>\n",
       "      <td>2020-07-10</td>\n",
       "      <td>8</td>\n",
       "      <td>Generic Smartphone</td>\n",
       "      <td>6</td>\n",
       "      <td>Chrome Mobile</td>\n",
       "      <td>0</td>\n",
       "      <td>0</td>\n",
       "    </tr>\n",
       "    <tr>\n",
       "      <th>1</th>\n",
       "      <td>000eabc5-17ce-4137-8efe-44734d914446</td>\n",
       "      <td>exposed</td>\n",
       "      <td>2020-07-07</td>\n",
       "      <td>10</td>\n",
       "      <td>Generic Smartphone</td>\n",
       "      <td>6</td>\n",
       "      <td>Chrome Mobile</td>\n",
       "      <td>0</td>\n",
       "      <td>0</td>\n",
       "    </tr>\n",
       "    <tr>\n",
       "      <th>2</th>\n",
       "      <td>0016d14a-ae18-4a02-a204-6ba53b52f2ed</td>\n",
       "      <td>exposed</td>\n",
       "      <td>2020-07-05</td>\n",
       "      <td>2</td>\n",
       "      <td>E5823</td>\n",
       "      <td>6</td>\n",
       "      <td>Chrome Mobile WebView</td>\n",
       "      <td>0</td>\n",
       "      <td>1</td>\n",
       "    </tr>\n",
       "    <tr>\n",
       "      <th>3</th>\n",
       "      <td>00187412-2932-4542-a8ef-3633901c98d9</td>\n",
       "      <td>control</td>\n",
       "      <td>2020-07-03</td>\n",
       "      <td>15</td>\n",
       "      <td>Samsung SM-A705FN</td>\n",
       "      <td>6</td>\n",
       "      <td>Facebook</td>\n",
       "      <td>0</td>\n",
       "      <td>0</td>\n",
       "    </tr>\n",
       "    <tr>\n",
       "      <th>4</th>\n",
       "      <td>001a7785-d3fe-4e11-a344-c8735acacc2c</td>\n",
       "      <td>control</td>\n",
       "      <td>2020-07-03</td>\n",
       "      <td>15</td>\n",
       "      <td>Generic Smartphone</td>\n",
       "      <td>6</td>\n",
       "      <td>Chrome Mobile</td>\n",
       "      <td>0</td>\n",
       "      <td>0</td>\n",
       "    </tr>\n",
       "    <tr>\n",
       "      <th>...</th>\n",
       "      <td>...</td>\n",
       "      <td>...</td>\n",
       "      <td>...</td>\n",
       "      <td>...</td>\n",
       "      <td>...</td>\n",
       "      <td>...</td>\n",
       "      <td>...</td>\n",
       "      <td>...</td>\n",
       "      <td>...</td>\n",
       "    </tr>\n",
       "    <tr>\n",
       "      <th>8072</th>\n",
       "      <td>ffea24ec-cec1-43fb-b1d1-8f93828c2be2</td>\n",
       "      <td>exposed</td>\n",
       "      <td>2020-07-05</td>\n",
       "      <td>7</td>\n",
       "      <td>Generic Smartphone</td>\n",
       "      <td>6</td>\n",
       "      <td>Chrome Mobile</td>\n",
       "      <td>0</td>\n",
       "      <td>0</td>\n",
       "    </tr>\n",
       "    <tr>\n",
       "      <th>8073</th>\n",
       "      <td>ffea3210-2c3e-426f-a77d-0aa72e73b20f</td>\n",
       "      <td>control</td>\n",
       "      <td>2020-07-03</td>\n",
       "      <td>15</td>\n",
       "      <td>Generic Smartphone</td>\n",
       "      <td>6</td>\n",
       "      <td>Chrome Mobile</td>\n",
       "      <td>0</td>\n",
       "      <td>0</td>\n",
       "    </tr>\n",
       "    <tr>\n",
       "      <th>8074</th>\n",
       "      <td>ffeaa0f1-1d72-4ba9-afb4-314b3b00a7c7</td>\n",
       "      <td>control</td>\n",
       "      <td>2020-07-04</td>\n",
       "      <td>9</td>\n",
       "      <td>Generic Smartphone</td>\n",
       "      <td>6</td>\n",
       "      <td>Chrome Mobile</td>\n",
       "      <td>0</td>\n",
       "      <td>0</td>\n",
       "    </tr>\n",
       "    <tr>\n",
       "      <th>8075</th>\n",
       "      <td>ffeeed62-3f7c-4a6e-8ba7-95d303d40969</td>\n",
       "      <td>exposed</td>\n",
       "      <td>2020-07-05</td>\n",
       "      <td>15</td>\n",
       "      <td>Samsung SM-A515F</td>\n",
       "      <td>6</td>\n",
       "      <td>Samsung Internet</td>\n",
       "      <td>0</td>\n",
       "      <td>0</td>\n",
       "    </tr>\n",
       "    <tr>\n",
       "      <th>8076</th>\n",
       "      <td>fffbb9ff-568a-41a5-a0c3-6866592f80d8</td>\n",
       "      <td>control</td>\n",
       "      <td>2020-07-10</td>\n",
       "      <td>14</td>\n",
       "      <td>Samsung SM-G960F</td>\n",
       "      <td>6</td>\n",
       "      <td>Facebook</td>\n",
       "      <td>0</td>\n",
       "      <td>0</td>\n",
       "    </tr>\n",
       "  </tbody>\n",
       "</table>\n",
       "<p>8077 rows × 9 columns</p>\n",
       "</div>"
      ],
      "text/plain": [
       "                                auction_id experiment        date  hour  \\\n",
       "0     0008ef63-77a7-448b-bd1e-075f42c55e39    exposed  2020-07-10     8   \n",
       "1     000eabc5-17ce-4137-8efe-44734d914446    exposed  2020-07-07    10   \n",
       "2     0016d14a-ae18-4a02-a204-6ba53b52f2ed    exposed  2020-07-05     2   \n",
       "3     00187412-2932-4542-a8ef-3633901c98d9    control  2020-07-03    15   \n",
       "4     001a7785-d3fe-4e11-a344-c8735acacc2c    control  2020-07-03    15   \n",
       "...                                    ...        ...         ...   ...   \n",
       "8072  ffea24ec-cec1-43fb-b1d1-8f93828c2be2    exposed  2020-07-05     7   \n",
       "8073  ffea3210-2c3e-426f-a77d-0aa72e73b20f    control  2020-07-03    15   \n",
       "8074  ffeaa0f1-1d72-4ba9-afb4-314b3b00a7c7    control  2020-07-04     9   \n",
       "8075  ffeeed62-3f7c-4a6e-8ba7-95d303d40969    exposed  2020-07-05    15   \n",
       "8076  fffbb9ff-568a-41a5-a0c3-6866592f80d8    control  2020-07-10    14   \n",
       "\n",
       "             device_make  platform_os                browser  yes  no  \n",
       "0     Generic Smartphone            6          Chrome Mobile    0   0  \n",
       "1     Generic Smartphone            6          Chrome Mobile    0   0  \n",
       "2                  E5823            6  Chrome Mobile WebView    0   1  \n",
       "3      Samsung SM-A705FN            6               Facebook    0   0  \n",
       "4     Generic Smartphone            6          Chrome Mobile    0   0  \n",
       "...                  ...          ...                    ...  ...  ..  \n",
       "8072  Generic Smartphone            6          Chrome Mobile    0   0  \n",
       "8073  Generic Smartphone            6          Chrome Mobile    0   0  \n",
       "8074  Generic Smartphone            6          Chrome Mobile    0   0  \n",
       "8075    Samsung SM-A515F            6       Samsung Internet    0   0  \n",
       "8076    Samsung SM-G960F            6               Facebook    0   0  \n",
       "\n",
       "[8077 rows x 9 columns]"
      ]
     },
     "execution_count": 230,
     "metadata": {},
     "output_type": "execute_result"
    }
   ],
   "source": [
    "df = data_loader.load_data('../data/AdSmartABdata.csv')\n",
    "df"
   ]
  },
  {
   "cell_type": "code",
   "execution_count": 231,
   "id": "d5fc9558",
   "metadata": {},
   "outputs": [
    {
     "data": {
      "text/html": [
       "<div>\n",
       "<style scoped>\n",
       "    .dataframe tbody tr th:only-of-type {\n",
       "        vertical-align: middle;\n",
       "    }\n",
       "\n",
       "    .dataframe tbody tr th {\n",
       "        vertical-align: top;\n",
       "    }\n",
       "\n",
       "    .dataframe thead th {\n",
       "        text-align: right;\n",
       "    }\n",
       "</style>\n",
       "<table border=\"1\" class=\"dataframe\">\n",
       "  <thead>\n",
       "    <tr style=\"text-align: right;\">\n",
       "      <th></th>\n",
       "      <th>experiment</th>\n",
       "      <th>total</th>\n",
       "      <th>yes</th>\n",
       "      <th>no</th>\n",
       "    </tr>\n",
       "  </thead>\n",
       "  <tbody>\n",
       "    <tr>\n",
       "      <th>0</th>\n",
       "      <td>control</td>\n",
       "      <td>4071</td>\n",
       "      <td>264</td>\n",
       "      <td>322</td>\n",
       "    </tr>\n",
       "    <tr>\n",
       "      <th>1</th>\n",
       "      <td>exposed</td>\n",
       "      <td>4006</td>\n",
       "      <td>308</td>\n",
       "      <td>349</td>\n",
       "    </tr>\n",
       "  </tbody>\n",
       "</table>\n",
       "</div>"
      ],
      "text/plain": [
       "  experiment  total  yes   no\n",
       "0    control   4071  264  322\n",
       "1    exposed   4006  308  349"
      ]
     },
     "execution_count": 231,
     "metadata": {},
     "output_type": "execute_result"
    }
   ],
   "source": [
    "ddf = df.groupby('experiment').agg(\n",
    "    {'auction_id': 'count', 'yes': 'sum', 'no': 'sum'}).reset_index()\n",
    "ddf = ddf.rename(columns={'auction_id': 'total'})\n",
    "ddf\n"
   ]
  },
  {
   "cell_type": "code",
   "execution_count": 232,
   "id": "c0a50094",
   "metadata": {},
   "outputs": [],
   "source": [
    "C_total = ddf.total.iloc[0]\n",
    "E_total = ddf.total.iloc[1]"
   ]
  },
  {
   "cell_type": "code",
   "execution_count": 233,
   "id": "9e6f837a",
   "metadata": {},
   "outputs": [],
   "source": [
    "C_aware = ddf.yes.iloc[0]\n",
    "E_aware = ddf.yes.iloc[1]\n"
   ]
  },
  {
   "cell_type": "code",
   "execution_count": 234,
   "id": "99974d42",
   "metadata": {},
   "outputs": [
    {
     "name": "stdout",
     "output_type": "stream",
     "text": [
      "convertion rate for contro gruop = 0.06484893146647015%\n",
      "convertion rate for exposed gruop = 0.07688467299051423%\n"
     ]
    }
   ],
   "source": [
    "C_cr = ddf.yes.iloc[0]/ddf.total.iloc[0]\n",
    "E_cr = ddf.yes.iloc[1]/ddf.total.iloc[1]\n",
    "\n",
    "print('convertion rate for contro gruop = {}%'.format(C_cr))\n",
    "print('convertion rate for exposed gruop = {}%'.format(E_cr))\n"
   ]
  },
  {
   "cell_type": "code",
   "execution_count": 235,
   "id": "f0c325f8",
   "metadata": {},
   "outputs": [
    {
     "data": {
      "image/png": "[encoded data removed]",
      "text/plain": [
       "<Figure size 864x432 with 1 Axes>"
      ]
     },
     "metadata": {
      "needs_background": "light"
     },
     "output_type": "display_data"
    }
   ],
   "source": [
    "#control group distribution with probability of getting the result from our exposed group\n",
    "DP.cont_distribution(C_aware, C_total, C_cr, E_cr)"
   ]
  },
  {
   "cell_type": "code",
   "execution_count": 236,
   "id": "d506e62f",
   "metadata": {},
   "outputs": [
    {
     "data": {
      "image/png": "[encoded data removed]",
      "text/plain": [
       "<Figure size 864x432 with 1 Axes>"
      ]
     },
     "metadata": {
      "needs_background": "light"
     },
     "output_type": "display_data"
    }
   ],
   "source": [
    "#comparison of control and exposed groups distribution against each other\n",
    "DP.cont_exp_distribution(C_aware, E_aware, C_total, E_total, C_cr, E_cr)"
   ]
  },
  {
   "cell_type": "code",
   "execution_count": 237,
   "id": "c49b64da",
   "metadata": {},
   "outputs": [
    {
     "data": {
      "image/png": "[encoded data removed]",
      "text/plain": [
       "<Figure size 864x432 with 1 Axes>"
      ]
     },
     "metadata": {
      "needs_background": "light"
     },
     "output_type": "display_data"
    }
   ],
   "source": [
    "#Null and alternative hypotheses plots with\n",
    "#statistical power and significance levels defined and represented in the plots\n",
    "DP.null_alt_distribution(C_total, E_total, C_cr, E_cr)"
   ]
  },
  {
   "cell_type": "markdown",
   "id": "9b391899",
   "metadata": {},
   "source": [
    "## classical p-value"
   ]
  },
  {
   "cell_type": "code",
   "execution_count": 238,
   "id": "b3dcd935",
   "metadata": {},
   "outputs": [
    {
     "name": "stdout",
     "output_type": "stream",
     "text": [
      "zscore = 2.108, pvalue = 0.035\n"
     ]
    }
   ],
   "source": [
    "zscore, pvalue = hypothesis_test.two_proprotions_test(\n",
    "    ddf.yes.iloc[0], ddf.total.iloc[0],  ddf.yes.iloc[1], ddf.total.iloc[1])\n",
    "print('zscore = {:.3f}, pvalue = {:.3f}'.format(zscore, pvalue))\n",
    "\n"
   ]
  },
  {
   "cell_type": "markdown",
   "id": "d0287ff7",
   "metadata": {},
   "source": [
    "***Assuming 95% confidence level, the new advertising is more successful.\n",
    "p_vlaue = 0.035*** "
   ]
  },
  {
   "cell_type": "markdown",
   "id": "63f30c84",
   "metadata": {},
   "source": [
    "# sequential"
   ]
  },
  {
   "cell_type": "code",
   "execution_count": 239,
   "id": "5a066228",
   "metadata": {},
   "outputs": [
    {
     "name": "stdout",
     "output_type": "stream",
     "text": [
      "E-C = 44\n",
      "E+C = 572\n",
      "N = 8077\n",
      "2*sqrt(N) = 179.74426277353055\n"
     ]
    }
   ],
   "source": [
    "\n",
    "from ctypes import c_wchar\n",
    "import numpy as np\n",
    "\n",
    "print('E-C = {}'.format(E_aware-C_aware))\n",
    "print('E+C = {}'.format(E_aware+C_aware))\n",
    "print('N = {}'.format(ddf.total.sum()))\n",
    "print('2*sqrt(N) = {}'.format(2*np.sqrt(ddf.total.sum())))\n"
   ]
  },
  {
   "cell_type": "markdown",
   "id": "6f0692ac",
   "metadata": {},
   "source": [
    "- If (T-C) reaches (2\\sqrt{N}), stop the test. Declare the treatment to be the winner.\n",
    "- If (T+C) reaches (N), stop the test. Declare no winner."
   ]
  },
  {
   "cell_type": "code",
   "execution_count": 240,
   "id": "5dd780e3",
   "metadata": {},
   "outputs": [],
   "source": [
    "def transform_data(df):\n",
    "    '''\n",
    "      segment data into exposed and control groups\n",
    "      consider that SmartAd runs the experment hourly, group data into hours. \n",
    "          Hint: create new column to hold date+hour and use df.column.map(lambda x:  pd.Timestamp(x,tz=None).strftime('%Y-%m-%d:%H'))\n",
    "      create two dataframes with bernouli series 1 for posetive(yes) and 0 for negative(no)\n",
    "        Hint: Given engagement(sum of yes and no until current observation as an array) and success (yes countas an array), the method generates random binomial distribution\n",
    "            #Example\n",
    "               engagement = np.array([5, 3, 3])\n",
    "               yes = np.array([2, 0, 3])       \n",
    "             Output is \"[1] 1 0 1 0 0 0 0 0 1 1 1\", showing a binary array of 5+3+3 values\n",
    "             of which 2 of the first 5 are ones, 0 of the next 3 are ones, and all 3 of\n",
    "             the last 3 are ones where position the ones is randomly distributed within each group.\n",
    "    '''\n",
    "    \n",
    "    # excluding who did not respond\n",
    "    clean_data = df[df['yes'] == 1].append(df[df['no'] == 1])\n",
    "    \n",
    "    #Segmenting data into exposed and control groups\n",
    "    exposed_group = clean_data[clean_data['experiment'] == 'exposed']\n",
    "    control_group = clean_data[clean_data['experiment'] == 'control']\n",
    "\n",
    "    #Grouping Data using hours\n",
    "    control_group['hour'] = control_group['hour'].astype('str')\n",
    "    control_group['date'] = control_group['date'].astype('str')\n",
    "    control_group['date+hour'] = pd.to_datetime(\n",
    "        control_group['date'] + \" \" + control_group['hour'] + \":00:00\")\n",
    "    control_group['date+hour'] = control_group['date+hour'].map(\n",
    "        lambda x:  pd.Timestamp(x, tz=None).strftime('%Y-%m-%d:%H'))\n",
    "\n",
    "    exposed_group['hour'] = exposed_group['hour'].astype('str')\n",
    "    exposed_group['date'] = exposed_group['date'].astype('str')\n",
    "    exposed_group['date+hour'] = pd.to_datetime(\n",
    "        exposed_group['date'] + \" \" + exposed_group['hour'] + \":00:00\")\n",
    "    exposed_group['date+hour'] = exposed_group['date+hour'].map(\n",
    "        lambda x:  pd.Timestamp(x, tz=None).strftime('%Y-%m-%d:%H'))\n",
    "    \n",
    "    #Generating engagment and yes array based on date+hour column grouping\n",
    "    control_counts = control_group.groupby(\n",
    "        'date+hour').agg({'yes': 'sum', 'no': 'count'})\n",
    "    # #Generate bernouli series\n",
    "    # control_group_bernouli = seq.bernouli_constructor(\n",
    "    #     control_counts['no'], control_counts['yes'])\n",
    "\n",
    "    exposed_counts = exposed_group.groupby(\n",
    "        'date+hour').agg({'yes': 'sum', 'no': 'count'})\n",
    "\n",
    "    # #Generate bernouli series\n",
    "    # exposed_group_bernouli = seq.bernouli_constructor(\n",
    "    #     exposed_counts['no'], exposed_counts['yes'])\n",
    "\n",
    "    # data_stream = (control_group_bernouli, exposed_group_bernouli)\n",
    "    data_stream = (control_group['yes'].tolist(),\n",
    "                   exposed_group['yes'].tolist())\n",
    "\n",
    "    return data_stream\n"
   ]
  },
  {
   "cell_type": "code",
   "execution_count": 241,
   "id": "fc10bf67",
   "metadata": {},
   "outputs": [],
   "source": [
    "data_stream = transform_data(df)"
   ]
  },
  {
   "cell_type": "markdown",
   "id": "c529292c",
   "metadata": {},
   "source": [
    "# REFERENCE\n",
    "- A Conditional Sequential Test for the Equality of Two Binomial Proportions\n",
    "- William Q. Meeker, Jr\n",
    "- Journal of the Royal Statistical Society. Series C (Applied Statistics)\n",
    "- Vol. 30, No. 2 (1981), pp. 109-115"
   ]
  },
  {
   "cell_type": "code",
   "execution_count": 242,
   "id": "f1eae564",
   "metadata": {},
   "outputs": [],
   "source": [
    "class ConditionalSPRT:\n",
    "    def __init__(self,exposed,control,odd_ratio,alpha=0.05,beta=0.10,stop=None):\n",
    "        self.x = exposed\n",
    "        self.y = control\n",
    "        self.t1 = odd_ratio\n",
    "        self.alpha = alpha\n",
    "        self.beta = beta\n",
    "        self.stop = stop\n",
    "        \n",
    "    def ConditionalSPRT(self,x,y,t1,alpha=0.05,beta=0.10,stop=None):\n",
    "            \"\"\"\n",
    "               #\n",
    "              # Meeker's SPRT for matched `x` (treatment) and `y` (control), \n",
    "              # both indicator responses, likelihood ratio t1, error rates alpha and beta,\n",
    "              # and (optionally) truncation after trial stop.\n",
    "              #\n",
    "              # The return variable contains these elements:\n",
    "              #(outcome,n, k,l,u,truncated,truncate_decision,x1,r,stats,limits)\n",
    "              # * outcome:   \"continue,\" \"reject null,\" or \"accept null\".\n",
    "              # * n: number observation used for the decsion\n",
    "              # * k:     Index at which the outcome decision was made (or NA)\n",
    "              # * l:     lower critical point\n",
    "              # * u:     upper critical point\n",
    "              # * truncate_decision: The approximate decision made after truncate point\n",
    "              # * truncated: If the test was truncated, the value of `n.0`; NA otherwise\n",
    "              # * x1:       Original data `x`, cumulative\n",
    "              # * r:         Cumulative sum of x+y\n",
    "              # * stats:     Series of cumulative sums of log probability ratios\n",
    "              # * limits:    Two rows giving lower and upper critical limits, respectively\n",
    "              #\n",
    "            \"\"\"\n",
    "            if t1<=1:\n",
    "                logging.warning(\"Odd ratio should exceed 1.\")\n",
    "            if (alpha >0.5) | (beta >0.5):\n",
    "                logging.warning(\"Unrealistic values of alpha or beta were passed.\"\n",
    "                         +\" You should have good reason to use large alpha & beta values\")\n",
    "            if stop!=None:\n",
    "                stop=math.floor(n0)\n",
    "\n",
    "            def comb(n, k):\n",
    "                return math.factorial(n) // math.factorial(k) // math.factorial(n - k)\n",
    "\n",
    "            def lchoose(b, j):\n",
    "                a=[]\n",
    "                if (type(j) is list) | (isinstance(j,np.ndarray)==True):\n",
    "                    if len(j)<2:\n",
    "                        j=j[0]\n",
    "                if (type(j) is list) | (isinstance(j,np.ndarray)==True):\n",
    "                    for k in j:\n",
    "                        n=b\n",
    "                        if (0 <= k) & (k<= n):\n",
    "                            a.append(math.log(comb(n,k)))\n",
    "                        else:\n",
    "                            a.append(0)\n",
    "                else:\n",
    "                    n=b\n",
    "                    k=j\n",
    "                    if (0 <= k) & (k<= n):\n",
    "                        a.append(math.log(comb(n,k)))\n",
    "                    else:\n",
    "                        a.append(0)\n",
    "\n",
    "                return np.array(a)\n",
    "\n",
    "            def g(x,r,n,t1,t0=1):\n",
    "                \"\"\"\n",
    "                 #\n",
    "                  # Meeker's (1981) function `g`, the log probability ratio.\n",
    "                  # \n",
    "                \"\"\"\n",
    "                return -math.log(h(x,r,n,t1))+math.log(h(x,r,n,t0))\n",
    "\n",
    "            def h(x,r,n,t=1):\n",
    "              \"\"\"\n",
    "              #\n",
    "              # Reciprocal of Meeker's (1981) function `h`: the conditional probability of \n",
    "              # `x` given `r` and `n`, when the odds ratio is `t`.\n",
    "              #\n",
    "              # `x` is his \"x1\", the number of positives in `n` control trials.\n",
    "              # `r` is the total number of positives.\n",
    "              # `n` is the number of (control, treatment) pairs.\n",
    "              # `t` is the odds ratio.\n",
    "              #\n",
    "              \"\"\"\n",
    "              return f(r,n,t,offset=ftermlog(x,r,n,t))\n",
    "\n",
    "            def f(r,n,t,offset=0):\n",
    "                \"\"\"\n",
    "                  # Meeker's (1981) function exp(F(r,n,t)), proportional to the probability of \n",
    "                  #  `r` (=x1+x2) in `n` paired trials with an odds ratio of `t`.\n",
    "                  #\n",
    "                  # This function does *not* vectorize over its arguments.\n",
    "                \"\"\"\n",
    "                upper=max(0,r-n)\n",
    "                lower=min(n,r)\n",
    "                rng=list(range(upper,lower+1))\n",
    "                return np.sum(fterm(rng,r,n,t,offset))\n",
    "\n",
    "            def fterm(j,r,n,t,offset=0):\n",
    "                ftlog=ftermlog(j,r,n,t,offset)\n",
    "                return np.array([math.exp(ex) for ex in ftlog])\n",
    "\n",
    "            def ftermlog(j,r,n,t,offset=0):\n",
    "                \"\"\"\n",
    "                  #\n",
    "                  # Up to an additive constant, the log probability that (x1, x1+x2) = (j, r) \n",
    "                  # in `n` paired trials with odds ratio of `t`.\n",
    "                  #\n",
    "                  # `offset` is used to adjust the result to avoid under/overflow.\n",
    "                  #\n",
    "                \"\"\"\n",
    "                xx=r-j\n",
    "                lch=lchoose(n,j)\n",
    "                lchdiff=lchoose(n,xx)\n",
    "                lg=np.array(j)*math.log(t)\n",
    "                lgsum=lch+lchdiff\n",
    "                lgsum2=lgsum+lg\n",
    "                lgdiff=lgsum2-offset\n",
    "\n",
    "                return lgdiff\n",
    "\n",
    "            def logf(r,n,t,offset=0):\n",
    "                \"\"\"\n",
    "                  #\n",
    "                  # A protected vesion of log(f), Meeker's function `F`.\n",
    "                  #\n",
    "                \"\"\"\n",
    "                z=f(r,n,t,offset)\n",
    "                if z>0:\n",
    "                    return math.log(z)\n",
    "                else:\n",
    "                    return np.nan\n",
    "\n",
    "            def clowerUpper(r,n,t1c,t0=1,alpha=0.05,beta=0.10):\n",
    "                \"\"\"\n",
    "                   #\n",
    "                  # Meeker's (1981) functions c_L(r,n) and c_U(r,n), the  critical values for x1.\n",
    "                  # 0 <= r <= 2n; t1 >= t0 > 0.\n",
    "                  #\n",
    "                \"\"\"\n",
    "                offset=ftermlog(math.ceil(r/2),r,n,t1c)\n",
    "                z=logf(r,n,t1c,logf(r,n,t0,offset)+offset)\n",
    "                a=-math.log(alpha/(1-beta))\n",
    "                b=math.log(beta/(1-alpha))\n",
    "                lower=b\n",
    "                upper=1+a\n",
    "                return (np.array([lower,upper])+z)/math.log(t1c/t0)\n",
    "\n",
    "            l=math.log(beta/(1-alpha))\n",
    "            u=-math.log(alpha/(1-beta))\n",
    "            sample_size=min(len(x),len(y))\n",
    "            n=np.array(range(1,sample_size+1))\n",
    "\n",
    "            if stop!=None:\n",
    "                n=np.array([z for z in n if z<=stop])\n",
    "            x1=np.cumsum(x[n-1])\n",
    "            r=x1+np.cumsum(y[n-1])\n",
    "            stats=np.array(list(map(g,x1, r, n, [t1]*len(x1)))) #recurcively calls g\n",
    "             #\n",
    "              # Perform the test by finding the first index, if any, at which `stats`\n",
    "              # falls outside the open interval (l, u).\n",
    "              #\n",
    "            clu=list(map(clowerUpper,r,n,[t1]*len(r),[1]*len(r),[alpha]*len(r), [beta]*len(r)))\n",
    "            limits=[]\n",
    "            for v in clu:\n",
    "                inArray=[]\n",
    "                for vin in v:\n",
    "                    inArray.append(math.floor(vin))\n",
    "                limits.append(np.array(inArray))\n",
    "            limits=np.array(limits)\n",
    "\n",
    "            k=np.where((stats>=u) | (stats<=l))\n",
    "            cvalues=stats[k]\n",
    "            if cvalues.shape[0]<1:\n",
    "                k= np.nan\n",
    "                outcome='Unable to conclude.Needs more sample.'\n",
    "            else:\n",
    "                k=np.min(k)\n",
    "                if stats[k]>=u:\n",
    "                    outcome=f'Exposed group produced a statistically significant increase.'\n",
    "                else:\n",
    "                    outcome='Their is no statistically significant difference between two test groups'\n",
    "            if (stop!=None) & (k==np.nan):\n",
    "              #\n",
    "              # Truncate at trial stop, using Meeker's H0-conservative formula (2.2).\n",
    "              # Leave k=NA to indicate the decision was made due to truncation.\n",
    "              #\n",
    "                c1=clowerUpper(r,stop,t1,alpha,beta)\n",
    "                c1=math.floor(np.mean(c1)-0.5)\n",
    "                if x1[n0]<=c1:\n",
    "                    truncate_decision='h0'\n",
    "                    outcome='Maximum Limit Decision. The aproximate decision point shows their is no statistically significant difference between two test groups'\n",
    "                else:\n",
    "                    truncate_decision='h1'\n",
    "                    outcome=f'Maximum Limit Decision. The aproximate decision point shows exposed group produced a statistically significant increase.'\n",
    "                truncated=stop\n",
    "            else:\n",
    "                truncate_decision='Non'\n",
    "                truncated=np.nan\n",
    "            return (outcome,n, k,l,u,truncated,truncate_decision,x1,r,stats,limits)\n"
   ]
  },
  {
   "cell_type": "code",
   "execution_count": 243,
   "id": "670412dc",
   "metadata": {},
   "outputs": [],
   "source": [
    "# Compute Conditional SPRT\n",
    "odd_ratio = 1.01\n",
    "control = np.array(data_stream[0])\n",
    "exposed = np.array(data_stream[1])\n",
    "\n",
    "csprt = ConditionalSPRT(\n",
    "    exposed=exposed, control=control, odd_ratio=odd_ratio)\n",
    "result = csprt.ConditionalSPRT(\n",
    "    x=csprt.x, y=csprt.y, t1=csprt.t1)\n"
   ]
  },
  {
   "cell_type": "code",
   "execution_count": null,
   "id": "706cabf9",
   "metadata": {},
   "outputs": [
    {
     "data": {
      "text/plain": [
       "'Unable to conclude.Needs more sample.'"
      ]
     },
     "execution_count": 225,
     "metadata": {},
     "output_type": "execute_result"
    }
   ],
   "source": [
    "result[0]\n"
   ]
  },
  {
   "cell_type": "code",
   "execution_count": null,
   "id": "12ca7a41",
   "metadata": {},
   "outputs": [],
   "source": [
    "#Plot the result\n",
    "limits = result[10]\n",
    "lower_limit = limits[:, 0]\n",
    "upper_limit = limits[:, 1]\n",
    "x1 = result[7]\n",
    "r = result[8]\n"
   ]
  },
  {
   "cell_type": "code",
   "execution_count": null,
   "id": "4e13f15e",
   "metadata": {},
   "outputs": [
    {
     "data": {
      "image/png": "[encoded data removed]",
      "text/plain": [
       "<Figure size 432x288 with 1 Axes>"
      ]
     },
     "metadata": {
      "needs_background": "light"
     },
     "output_type": "display_data"
    }
   ],
   "source": [
    "seq.plot_cumulative(upper_limit, lower_limit, r, x1)\n"
   ]
  }
 ],
 "metadata": {
  "kernelspec": {
   "display_name": "Python 3.10.5 ('10A')",
   "language": "python",
   "name": "python3"
  },
  "language_info": {
   "codemirror_mode": {
    "name": "ipython",
    "version": 3
   },
   "file_extension": ".py",
   "mimetype": "text/x-python",
   "name": "python",
   "nbconvert_exporter": "python",
   "pygments_lexer": "ipython3",
   "version": "3.10.5"
  },
  "vscode": {
   "interpreter": {
    "hash": "2be9f4616ca1b5198a62cd2082c7feed2682666a7b8fb219311f5849134be0bf"
   }
  }
 },
 "nbformat": 4,
 "nbformat_minor": 5
}
